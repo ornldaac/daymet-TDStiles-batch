{
 "cells": [
  {
   "cell_type": "markdown",
   "id": "3a136f85",
   "metadata": {},
   "source": [
    "# Downloading Gridded Daymet tile NetCDF 's "
   ]
  },
  {
   "cell_type": "markdown",
   "id": "46ac72fe",
   "metadata": {},
   "source": [
    "## Create interactive map with Daymet using Folium"
   ]
  },
  {
   "cell_type": "code",
   "execution_count": null,
   "id": "9fc4f694",
   "metadata": {},
   "outputs": [],
   "source": [
    "import folium\n",
    "import json\n",
    "m = folium.Map(location=[49, -119], zoom_start=2.2)\n",
    "style_function = lambda x: {\"color\":\"black\"}\n",
    "with open(\"Daymet_v4_Tiles.geojson\",'r') as f:\n",
    "    data = json.load(f)\n",
    "    g_json = folium.GeoJson(data, name=\"Daymet Tiles\",\n",
    "                            style_function=style_function,\n",
    "                            popup=folium.GeoJsonPopup(fields=[\"TileID\",\"Latitude (Max)\",\"Latitude (Min)\",\"Longitude (Max)\",\"Longitude (Min)\"])).add_to(m)\n",
    "\n",
    "folium.TileLayer('Stamen Terrain').add_to(m)\n",
    "folium.LayerControl().add_to(m)"
   ]
  },
  {
   "cell_type": "code",
   "execution_count": null,
   "id": "fcee3830",
   "metadata": {},
   "outputs": [],
   "source": [
    "m #display map"
   ]
  },
  {
   "cell_type": "code",
   "execution_count": null,
   "id": "b6619e71",
   "metadata": {},
   "outputs": [],
   "source": [
    "%%sh\n",
    "bash ../Bash/daymet_tile-nc-retrieval.sh -h"
   ]
  },
  {
   "cell_type": "markdown",
   "id": "11e31f1d",
   "metadata": {},
   "source": [
    "## Daymet Tile NetCDF Retrieval Script Examples"
   ]
  },
  {
   "cell_type": "markdown",
   "id": "6b14871d",
   "metadata": {},
   "source": [
    "Download vp nc files for tiles between 11207 and 11209 over years between 2020 and 2021"
   ]
  },
  {
   "cell_type": "code",
   "execution_count": null,
   "id": "4cb05dc2",
   "metadata": {},
   "outputs": [],
   "source": [
    "%%sh\n",
    "bash ../Bash/daymet_tile-nc-retrieval.sh -s 2020 -e 2021 -v \"vp dayl\" 11207 11209"
   ]
  },
  {
   "cell_type": "code",
   "execution_count": null,
   "id": "cacfe651",
   "metadata": {},
   "outputs": [],
   "source": [
    "%%sh\n",
    "ls -lt "
   ]
  },
  {
   "cell_type": "markdown",
   "id": "5e2e073a",
   "metadata": {},
   "source": [
    "Download dayl nc files for tiles 13166 11933, and 9402 over years between 2019 and 2021"
   ]
  },
  {
   "cell_type": "code",
   "execution_count": null,
   "id": "70bc62dd",
   "metadata": {},
   "outputs": [],
   "source": [
    "%%sh\n",
    "bash ../Bash/daymet_tile-nc-retrieval.sh -s 2019 -e 2021 -v \"dayl\" -t \"13166 11933 9402\" "
   ]
  },
  {
   "cell_type": "code",
   "execution_count": null,
   "id": "edbde08a",
   "metadata": {},
   "outputs": [],
   "source": [
    "%%sh \n",
    "ls -lt"
   ]
  },
  {
   "cell_type": "markdown",
   "id": "427ef36a",
   "metadata": {},
   "source": [
    "Download all 1980 nc files for tile 11210 with **curl** instead of wget"
   ]
  },
  {
   "cell_type": "code",
   "execution_count": null,
   "id": "28a4e505",
   "metadata": {},
   "outputs": [],
   "source": [
    "%%sh\n",
    "bash ../Bash/daymet_tile-nc-retrieval.sh -s 1980 -e 1980 -c -t \"11210\""
   ]
  },
  {
   "cell_type": "code",
   "execution_count": null,
   "id": "a315340c",
   "metadata": {
    "scrolled": true
   },
   "outputs": [],
   "source": [
    "%%sh\n",
    "ls -lt"
   ]
  }
 ],
 "metadata": {
  "kernelspec": {
   "display_name": "Python 3",
   "language": "python",
   "name": "python3"
  },
  "language_info": {
   "codemirror_mode": {
    "name": "ipython",
    "version": 3
   },
   "file_extension": ".py",
   "mimetype": "text/x-python",
   "name": "python",
   "nbconvert_exporter": "python",
   "pygments_lexer": "ipython3",
   "version": "3.8.10"
  }
 },
 "nbformat": 4,
 "nbformat_minor": 5
}
